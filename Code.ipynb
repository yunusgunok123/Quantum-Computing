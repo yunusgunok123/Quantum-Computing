{
 "cells": [
  {
   "cell_type": "code",
   "execution_count": 2,
   "metadata": {},
   "outputs": [],
   "source": [
    "from qiskit import QuantumRegister, ClassicalRegister, QuantumCircuit, Aer, IBMQ, execute\n",
    "import ipywidgets as widgets\n",
    "# IBMQ.load_account()"
   ]
  },
  {
   "cell_type": "code",
   "execution_count": 4,
   "metadata": {},
   "outputs": [
    {
     "data": {
      "application/vnd.jupyter.widget-view+json": {
       "model_id": "2e92e9bdd54342b7b39bebd50bdc3c11",
       "version_major": 2,
       "version_minor": 0
      },
      "text/plain": [
       "HBox(children=(Button(description='Flip', style=ButtonStyle()), Button(description='Skip', style=ButtonStyle()…"
      ]
     },
     "execution_count": 4,
     "metadata": {},
     "output_type": "execute_result"
    }
   ],
   "source": [
    "# %% QUANTUM COIN GAME\n",
    "\n",
    "is_flipped = True\n",
    "def on_flip(b):\n",
    "    global is_flipped\n",
    "    is_flipped = True\n",
    "    on_click()\n",
    "def on_skip(b):\n",
    "    global is_flipped\n",
    "    is_flipped = False\n",
    "    on_click()\n",
    "\n",
    "def on_click():\n",
    "    global is_flipped\n",
    "    qreg = QuantumRegister(1, 'q')\n",
    "    creg = ClassicalRegister(1, 'c')\n",
    "    circuit = QuantumCircuit(qreg, creg)\n",
    "    circuit.h(qreg[0])\n",
    "\n",
    "    if is_flipped: circuit.x(qreg[0])\n",
    "    else: circuit.i(qreg[0])\n",
    "\n",
    "    circuit.h(qreg[0])\n",
    "\n",
    "    circuit.measure(qreg[0], creg[0])\n",
    "\n",
    "    backend = Aer.get_backend('aer_simulator')\n",
    "    job = execute(circuit, backend, shots=2**13)\n",
    "    res = job.result().get_counts()\n",
    "    \n",
    "    if \"1\" in res: print(\"You win!\")\n",
    "    else: print(\"You lose!\")\n",
    "\n",
    "button_x = widgets.Button(description=\"Flip\")\n",
    "button_i = widgets.Button(description=\"Skip\")\n",
    "button_x.on_click(on_flip)\n",
    "button_i.on_click(on_skip)\n",
    "\n",
    "widgets.HBox([button_x, button_i])"
   ]
  },
  {
   "cell_type": "code",
   "execution_count": 5,
   "metadata": {},
   "outputs": [
    {
     "data": {
      "text/plain": [
       "{'0': 4028, '1': 4164}"
      ]
     },
     "execution_count": 5,
     "metadata": {},
     "output_type": "execute_result"
    }
   ],
   "source": [
    "# %% STERN GERLACH EXPERIMENT\n",
    "\n",
    "qreg = QuantumRegister(1, 'q')\n",
    "creg = ClassicalRegister(1, 'c')\n",
    "circuit = QuantumCircuit(qreg, creg)\n",
    "circuit.h(qreg[0])\n",
    "\n",
    "# circuit.t(qreg[0])\n",
    "# circuit.h(qreg[0])\n",
    "\n",
    "circuit.measure(qreg[0], creg[0])\n",
    "backend = Aer.get_backend('aer_simulator')\n",
    "job = execute(circuit, backend, shots=2**13)\n",
    "job.result().get_counts()"
   ]
  },
  {
   "cell_type": "code",
   "execution_count": 6,
   "metadata": {},
   "outputs": [
    {
     "data": {
      "text/plain": [
       "{'11': 4110, '00': 4082}"
      ]
     },
     "execution_count": 6,
     "metadata": {},
     "output_type": "execute_result"
    }
   ],
   "source": [
    "# %% BELL STATES\n",
    "\n",
    "qreg = QuantumRegister(2, 'q')\n",
    "creg = ClassicalRegister(2, 'c')\n",
    "circuit = QuantumCircuit(qreg, creg)\n",
    "\n",
    "# 00 11\n",
    "circuit.h(qreg[0])\n",
    "circuit.cx(qreg[0], qreg[1])\n",
    "\n",
    "# 00 10\n",
    "# circuit.h(qreg[0])\n",
    "# circuit.swap(qreg[0], qreg[1])\n",
    "\n",
    "circuit.measure(qreg[0], creg[0])\n",
    "circuit.measure(qreg[1], creg[1])\n",
    "backend = Aer.get_backend('aer_simulator')\n",
    "job = execute(circuit, backend, shots=2**13)\n",
    "job.result().get_counts()"
   ]
  }
 ],
 "metadata": {
  "kernelspec": {
   "display_name": "Python 3",
   "language": "python",
   "name": "python3"
  },
  "language_info": {
   "codemirror_mode": {
    "name": "ipython",
    "version": 3
   },
   "file_extension": ".py",
   "mimetype": "text/x-python",
   "name": "python",
   "nbconvert_exporter": "python",
   "pygments_lexer": "ipython3",
   "version": "3.8.10"
  },
  "orig_nbformat": 4,
  "vscode": {
   "interpreter": {
    "hash": "40fc8a5f74ad92f30beae6ca91c699fc08a33dacf9161d24698540d569ed1d48"
   }
  }
 },
 "nbformat": 4,
 "nbformat_minor": 2
}
